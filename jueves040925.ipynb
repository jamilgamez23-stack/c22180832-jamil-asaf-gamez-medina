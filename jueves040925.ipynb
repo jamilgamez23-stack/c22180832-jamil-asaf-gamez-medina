{
  "nbformat": 4,
  "nbformat_minor": 0,
  "metadata": {
    "colab": {
      "provenance": [],
      "authorship_tag": "ABX9TyNa6PXaGh5/+Rev3uE4LdCX",
      "include_colab_link": true
    },
    "kernelspec": {
      "name": "python3",
      "display_name": "Python 3"
    },
    "language_info": {
      "name": "python"
    }
  },
  "cells": [
    {
      "cell_type": "markdown",
      "metadata": {
        "id": "view-in-github",
        "colab_type": "text"
      },
      "source": [
        "<a href=\"https://colab.research.google.com/github/jamilgamez23-stack/c22180832-jamil-asaf-gamez-medina/blob/main/jueves040925.ipynb\" target=\"_parent\"><img src=\"https://colab.research.google.com/assets/colab-badge.svg\" alt=\"Open In Colab\"/></a>"
      ]
    },
    {
      "cell_type": "code",
      "source": [],
      "metadata": {
        "id": "d0A3Ul1WYT2u"
      },
      "execution_count": null,
      "outputs": []
    },
    {
      "cell_type": "code",
      "execution_count": 5,
      "metadata": {
        "colab": {
          "base_uri": "https://localhost:8080/"
        },
        "id": "KvQtUXYM8c5D",
        "outputId": "1758e037-bc46-4ddd-b735-3c7baf60a0e0"
      },
      "outputs": [
        {
          "output_type": "stream",
          "name": "stdout",
          "text": [
            "21 <class 'int'>\n",
            "1.85 <class 'float'>\n",
            "nombre <class 'str'>\n",
            "Edad21\n",
            "Altura en metros1.85\n",
            "Monto de la compra:70\n",
            "\n",
            "Tipos:\n",
            "edad int\n",
            "altura float\n",
            "monto  float\n",
            "\n",
            "Resultados:\n",
            "¿Usuario mayor de edad? True\n",
            "¿Compra excede $500? False\n",
            "¿Mayor de edad Y compra > $500? False\n"
          ]
        }
      ],
      "source": [
        "#Parte 1. Tipos de datos\n",
        "################codigo\n",
        "edad: int = 21\n",
        "altura: float = 1.85\n",
        "nombre_completo: str = \"nombre\"\n",
        "print(edad, type(edad))\n",
        "print(altura, type(altura))\n",
        "print(nombre_completo, type(nombre_completo))\n",
        "#Pregunta: ¿qué función en Python permite conocer el tipo de dato de una variable? Úsala para mostrar los resultados. la funcion type()\n"
      ]
    },
    {
      "cell_type": "code",
      "source": [
        "#Parte 2. Operaciones aritméticas\n",
        "###############codigo\n",
        "\n",
        "p1 = 125.50\n",
        "p2 = 89.99\n",
        "p3 = 39.75\n",
        "\n",
        "total = p1 + p2 + p3\n",
        "print(f\"Total sin descuento: {total:.2f}\")\n",
        "\n",
        "descuento = total * 0.15\n",
        "total_con_descuento = total - descuento\n",
        "print(f\"Total con descuento: {total_con_descuento:.2f}\")\n",
        "#¿Qué operador usarías para obtener el residuo de dividir 125 entre 12? Escríbelo y ejecútalo en código.\n",
        "residuo = 125 % 12\n"
      ],
      "metadata": {
        "colab": {
          "base_uri": "https://localhost:8080/"
        },
        "id": "cOIte34xYYGc",
        "outputId": "7a3d6ca0-14e0-4aa5-e39e-d7a067c97c8a"
      },
      "execution_count": 1,
      "outputs": [
        {
          "output_type": "stream",
          "name": "stdout",
          "text": [
            "Total sin descuento: 255.24\n",
            "Total con descuento: 216.95\n"
          ]
        }
      ]
    },
    {
      "cell_type": "code",
      "source": [
        "#Parte 3. Operaciones relacionales\n",
        "################codigo\n",
        "\n",
        "edad = 21\n",
        "p1, p2, p3 = 125.50, 89.99, 39.75\n",
        "subtotal = p1 + p2 + p3\n",
        "precio_con_descuento = subtotal * (1 - 0.15)\n",
        "iva = precio_con_descuento * 0.16\n",
        "total_final = precio_con_descuento + iva\n",
        "es_mayor_de_18 = edad > 18\n",
        "precio_mas_alto_mayor_que_100 = max(p1, p2, p3) > 100\n",
        "total_menor_igual_200 = total_final <= 200\n",
        "print(f\"Edad mayor a 18? {es_mayor_de_18}\")\n",
        "print(f\"Precio más alto a 100? {precio_mas_alto_mayor_que_100}\")\n",
        "print(f\"Total final menor igual a 200? {total_menor_igual_200}\")\n",
        "print(f\"Subtotal: {subtotal:.2f}\")\n",
        "print(f\"Con descuento (15%): {precio_con_descuento:.2f}\")\n",
        "print(f\"IVA: {iva:.2f}\")\n",
        "print(f\"Total {total_final:.2f}\")"
      ],
      "metadata": {
        "colab": {
          "base_uri": "https://localhost:8080/"
        },
        "id": "Joxffyl2Y1r9",
        "outputId": "1b48714b-c2ca-4a0f-9661-e87e6976e97b"
      },
      "execution_count": 2,
      "outputs": [
        {
          "output_type": "stream",
          "name": "stdout",
          "text": [
            "Edad mayor a 18? True\n",
            "Precio más alto a 100? True\n",
            "Total final menor igual a 200? False\n",
            "Subtotal: 255.24\n",
            "Con descuento (15%): 216.95\n",
            "IVA: 34.71\n",
            "Total 251.67\n"
          ]
        }
      ]
    },
    {
      "cell_type": "code",
      "execution_count": 3,
      "metadata": {
        "colab": {
          "base_uri": "https://localhost:8080/"
        },
        "outputId": "fcedabfd-555f-465a-afab-b6dfea0d23d0",
        "id": "gFca1kWRY2Kx"
      },
      "outputs": [
        {
          "output_type": "stream",
          "name": "stdout",
          "text": [
            "Pagó con tarjeta Y tiene descuento? False\n",
            "Pagó con tarjeta O tiene descuento? True\n",
            "Negación de tiene_descuento True\n"
          ]
        }
      ],
      "source": [
        "#Parte 4. Operaciones lógicas\n",
        "#############codigo\n",
        "pago_tarjeta = True\n",
        "tiene_descuento = False\n",
        "pago_y_desc = pago_tarjeta and tiene_descuento\n",
        "pago_o_desc = pago_tarjeta or tiene_descuento\n",
        "niega_desc = not tiene_descuento\n",
        "\n",
        "print(\"Pagó con tarjeta Y tiene descuento?\", pago_y_desc)\n",
        "print(\"Pagó con tarjeta O tiene descuento?\", pago_o_desc)\n",
        "print(\"Negación de tiene_descuento\", niega_desc)"
      ]
    },
    {
      "cell_type": "code",
      "source": [
        "#Parte 5. Integración\n",
        "##########codigo\n",
        "edad = int(input(\"Edad\"))\n",
        "altura = float(input(\"Altura en metros\"))\n",
        "monto = float(input(\"Monto de la compra:\"))\n",
        "print(\"\\nTipos:\")\n",
        "print(\"edad\", type(edad).__name__)\n",
        "print(\"altura\", type(altura).__name__)\n",
        "print(\"monto \", type(monto).__name__)\n",
        "print(\"\\nResultados:\")\n",
        "print(\"¿Usuario mayor de edad?\", edad >= 18)\n",
        "print(\"¿Compra excede $500?\", monto > 500)\n",
        "print(\"¿Mayor de edad Y compra > $500?\", (edad >= 18) and (monto > 500))"
      ],
      "metadata": {
        "colab": {
          "base_uri": "https://localhost:8080/"
        },
        "id": "laVxFWiPZQQt",
        "outputId": "73cffad8-dab6-4132-b347-771e6dde3403"
      },
      "execution_count": 4,
      "outputs": [
        {
          "output_type": "stream",
          "name": "stdout",
          "text": [
            "Edad21\n",
            "Altura en metros1.8\n",
            "Monto de la compra:70\n",
            "\n",
            "Tipos:\n",
            "edad int\n",
            "altura float\n",
            "monto  float\n",
            "\n",
            "Resultados:\n",
            "¿Usuario mayor de edad? True\n",
            "¿Compra excede $500? False\n",
            "¿Mayor de edad Y compra > $500? False\n"
          ]
        }
      ]
    }
  ]
}