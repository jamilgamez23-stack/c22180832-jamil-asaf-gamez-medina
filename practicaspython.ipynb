{
  "nbformat": 4,
  "nbformat_minor": 0,
  "metadata": {
    "colab": {
      "provenance": [],
      "toc_visible": true,
      "authorship_tag": "ABX9TyOJSPRS2f55mGacPrDVhbl7",
      "include_colab_link": true
    },
    "kernelspec": {
      "name": "python3",
      "display_name": "Python 3"
    },
    "language_info": {
      "name": "python"
    }
  },
  "cells": [
    {
      "cell_type": "markdown",
      "metadata": {
        "id": "view-in-github",
        "colab_type": "text"
      },
      "source": [
        "<a href=\"https://colab.research.google.com/github/jamilgamez23-stack/c22180832-jamil-asaf-gamez-medina/blob/main/practicaspython.ipynb\" target=\"_parent\"><img src=\"https://colab.research.google.com/assets/colab-badge.svg\" alt=\"Open In Colab\"/></a>"
      ]
    },
    {
      "cell_type": "code",
      "execution_count": null,
      "metadata": {
        "id": "uIST49F139Nc"
      },
      "outputs": [],
      "source": [
        "################### TIPOS DE DATOS BASICOS #####################\n",
        "\n",
        "# Una variable es un espacio asignado en memoria RAM y que ocupa un tamaño dependiendo de su tipo de datos,\n",
        "# los tipos de datos básicos que implementa Python por defecto son los siguientes.\n",
        "\n",
        "#Números (Entero, float)\n",
        "contador: int = 0\n",
        "contador_1 = 1\n",
        "numero_pi: float = 3.14\n",
        "# Booleanos\n",
        "es_mentira: bool = True\n",
        "es_verdad: bool = False\n",
        "# String\n",
        "mi_nombre: str = \"jamil\"\n",
        "\n",
        "################### OPERADORES #####################\n",
        "\n",
        "# Un operador es un signo que utilizamos para señalar que operacion realizamos entre dos o más operandos, por ejemplo el operador de suma, el de resta,\n",
        "# multiplicación y otros más específicos de la programación\n",
        "\n",
        "################### OPERADORES ARITMETICOS #####################\n",
        "suma = 1 + 1\n",
        "resta = 1 - 1\n",
        "multiplicacion = 10*10\n",
        "division_con_decimales = 18/5\n",
        "division_con_decimales = 18//5\n",
        "# instruccion que calcula el modulo entre dos numeros\n",
        "modulo = 11 / 10\n",
        "potencia = 2 ** 3\n",
        "\n",
        "################### OPERADORES RELACIONALES #####################\n",
        "mayor_que = 2>1\n",
        "menor_que = 1<2\n",
        "igual_que = 1 == 1\n",
        "mayor_igual_que = 2 >= 1\n",
        "menor_igual_que = 1 <= 2\n",
        "diferente_que = 1 != 2\n",
        "\n",
        "################### OPERADORES LOGICOS #####################\n",
        "and_operation = True and False\n",
        "or_operation = True or False\n",
        "not_operation = not True\n",
        "\n",
        "################### OPERADORES DE PERTENENCIA #####################\n",
        "\n",
        "################### OPERADORES DE IDENTIDAD #####################"
      ]
    },
    {
      "cell_type": "code",
      "source": [
        "\n",
        "not_operation"
      ],
      "metadata": {
        "colab": {
          "base_uri": "https://localhost:8080/"
        },
        "id": "1tEDrIR049Nw",
        "outputId": "664852f7-53ab-45dc-cab0-2bfff5678f69"
      },
      "execution_count": null,
      "outputs": [
        {
          "output_type": "execute_result",
          "data": {
            "text/plain": [
              "False"
            ]
          },
          "metadata": {},
          "execution_count": 2
        }
      ]
    }
  ]
}