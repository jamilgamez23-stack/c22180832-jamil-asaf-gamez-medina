{
  "nbformat": 4,
  "nbformat_minor": 0,
  "metadata": {
    "colab": {
      "provenance": [],
      "authorship_tag": "ABX9TyOOH9/aLk/9soHzkvW+hL2i",
      "include_colab_link": true
    },
    "kernelspec": {
      "name": "python3",
      "display_name": "Python 3"
    },
    "language_info": {
      "name": "python"
    }
  },
  "cells": [
    {
      "cell_type": "markdown",
      "metadata": {
        "id": "view-in-github",
        "colab_type": "text"
      },
      "source": [
        "<a href=\"https://colab.research.google.com/github/jamilgamez23-stack/c22180832-jamil-asaf-gamez-medina/blob/main/Jueveslab3.ipynb\" target=\"_parent\"><img src=\"https://colab.research.google.com/assets/colab-badge.svg\" alt=\"Open In Colab\"/></a>"
      ]
    },
    {
      "cell_type": "code",
      "execution_count": null,
      "metadata": {
        "id": "OKdT_wKjoSDY"
      },
      "outputs": [],
      "source": [
        "\n",
        "############### 1. CREACIÓN DE DICCIONARIOS ###############\n",
        "\n",
        "nuevoDic = {}\n",
        "\n",
        "dicUno = {\"nombre\": \"Ana\", \"edad\": 20}\n",
        "dicDos = {\"ciudad\": \"CDMX\", \"pais\": \"México\"}\n",
        "\n",
        "############### 2. INSERTAR Y ACTUALIZAR ###############\n",
        "nuevoDic.update({\"color\": \"rojo\", \"tamaño\": \"mediano\"})\n",
        "\n",
        "# Copiar diccionario\n",
        "copiaDic = dicUno.copy()\n",
        "\n",
        "############### 3. BORRADOS ###############\n",
        "copiaDic.pop(\"edad\", None)   # None evita error si no existe la clave\n",
        "\n",
        "############### 4. OPERACIONES DE DICCIONARIOS ###############\n",
        "clavesUnidas = list(dicUno.keys()) + list(dicDos.keys())\n",
        "\n",
        "valoresUnidos = list(dicUno.values()) + list(dicDos.values())\n",
        "\n",
        "existeClave = \"nombre\" in dicUno\n",
        "\n",
        "# Obtener la longitud\n",
        "longitudDic = len(dicUno)\n",
        "\n",
        "############### 5. ACCESO A LOS DICCIONARIOS ###############\n",
        "valorNombre = dicUno[\"nombre\"]\n",
        "\n",
        "for clave, valor in dicDos.items():\n",
        "    clave, valor   # cada iteración muestra la clave y el valor"
      ]
    }
  ]
}